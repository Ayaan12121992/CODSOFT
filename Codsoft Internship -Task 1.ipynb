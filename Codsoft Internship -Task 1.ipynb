{
 "cells": [
  {
   "cell_type": "code",
   "execution_count": 1,
   "id": "d4c99c27",
   "metadata": {},
   "outputs": [],
   "source": [
    "# importing libraries\n",
    "import random\n",
    "import re"
   ]
  },
  {
   "cell_type": "code",
   "execution_count": null,
   "id": "d84ce826",
   "metadata": {
    "scrolled": true
   },
   "outputs": [
    {
     "name": "stdout",
     "output_type": "stream",
     "text": [
      "Please tell us your name?\n",
      "Dimpal\n",
      "Hello Dimpal, this is the chatbot. We will help you learn the basics of the chosen language...\n",
      "\n",
      "You can select from the following FOUR languages:-:\n",
      "1. Spanish\n",
      "2. French\n",
      "3. German\n",
      "4. हिंदी\n",
      "Choose from 1,2,3 and 4 numbers which represent the language...हिंदी\n",
      "Please enter a number from 1 to 4...\n",
      "Choose from 1,2,3 and 4 numbers which represent the language...2\n",
      "We begin with the French! language\n",
      "\n",
      "The new word is: Hello (Part of speech: greeting)\n",
      "Translations:\n",
      "French: bonjour\n",
      "\n",
      "Enter the translation in French: bonjour\n",
      "The translation is correct! Nice work!\n",
      "Do you wish to continue learning? (yes/no): yes\n",
      "The new word is: Goodbye (Part of speech: farewell)\n",
      "Translations:\n",
      "French: au revoir\n",
      "\n",
      "Enter the translation in French: au revoir\n",
      "The translation is correct! Nice work!\n"
     ]
    }
   ],
   "source": [
    "#we will begin by making a class called 'chatbot' which contains all the necessary functions\n",
    "class chatbot:\n",
    "\n",
    "    def __init__(self, language1, language2, language3,language4):\n",
    "            self.languages = [language1, language2, language3,language4]\n",
    "            self.vocabulary = {\n",
    "                'thank you': {'translations': {'English': 'thank you', language1: 'gracias', language2: 'merci', language3: 'danke',language4: 'धन्यवाद'}, 'part_of_speech': 'expression of gratitude'},\n",
    "                'hello': {'translations': {'English': 'hello', language1: 'hola', language2: 'bonjour', language3: 'hallo',language4:'नमस्ते'}, 'part_of_speech': 'greeting'},\n",
    "                'goodbye': {'translations': {'English': 'goodbye', language1: 'adiós', language2: 'au revoir', language3: 'verabschiedung',language4:'अलविदा'}, 'part_of_speech': 'farewell'},\n",
    "                'welcome': {'translations': {'English': 'welcome', language1: 'bienvenido', language2: 'Bienvenue', language3: 'Willkommen',language4:'स्वागत'}, 'part_of_speech': 'greeting'},\n",
    "                'have a nice day': {'translations': {'English': 'have a nice day', language1: 'que tenga un lindo día', language2: 'passe une bonne journée', language3: 'Einen schönen Tag noch',language4:'आपका दिन शुभ हो'}, 'part_of_speech': 'greeting'},\n",
    "\n",
    "            }\n",
    "            self.selected_language = None\n",
    "\n",
    "    def learning_part(self):\n",
    "            while True:\n",
    "                self.learn_word()\n",
    "                continue_learning = input(\"Do you wish to continue learning? (yes/no): \").lower()\n",
    "                if continue_learning != 'yes':\n",
    "                    print(\"Thank you for learning with us. Have a good day!\\n\")\n",
    "                    break\n",
    "\n",
    "    def learn_word(self):\n",
    "        word = random.choice(list(self.vocabulary.keys()))\n",
    "        translations = self.vocabulary[word]['translations']\n",
    "        part_of_speech = self.vocabulary[word]['part_of_speech']\n",
    "\n",
    "        print(f\"The new word is: {word.capitalize()} (Part of speech: {part_of_speech})\")\n",
    "        print(f\"Translations:\")\n",
    "        print(f\"{self.selected_language.capitalize()}: {translations[self.selected_language]}\\n\")\n",
    "\n",
    "        user_translation = input(f\"Enter the translation in {self.selected_language.capitalize()}: \").lower()\n",
    "\n",
    "        if user_translation == translations[self.selected_language]:\n",
    "              print(\"The translation is correct! Nice work!\")\n",
    "        else:\n",
    "              print(f\"The translation you have entered is Incorrect! The correct translation is: {translations[self.selected_language].capitalize()}\")\n",
    "\n",
    "\n",
    "    def greet(self):\n",
    "        self.name = input(\"Please tell us your name?\\n\")\n",
    "        print(f\"Hello {self.name}, this is the chatbot. We will help you learn the basics of the chosen language...\\n\")\n",
    "\n",
    "    def make_exit(self, reply):\n",
    "        for command in self.exit_commands:\n",
    "            if reply == command:\n",
    "                print(\"It was nice chatting with you, have a good day\")\n",
    "                return True\n",
    "\n",
    "    def select_language(self):\n",
    "        self.greet()\n",
    "        print(\"You can select from the following FOUR languages:-:\")\n",
    "        for index, lang in enumerate(self.languages, start=1):\n",
    "            print(f\"{index}. {lang}\")\n",
    "\n",
    "        while True:\n",
    "            choice = input(\"Choose from 1,2,3 and 4 numbers which represent the language...\")\n",
    "            if choice.isdigit() and 1 <= int(choice) <= len(self.languages):\n",
    "                self.selected_language = self.languages[int(choice) - 1]\n",
    "                print(f\"We begin with the {self.selected_language}! language\\n\")\n",
    "                break\n",
    "            else:\n",
    "                print(\"Please enter a number from 1 to 4...\")\n",
    "\n",
    "\n"
   ]
  },
  {
   "cell_type": "code",
   "execution_count": null,
   "id": "77fe8e3f",
   "metadata": {},
   "outputs": [],
   "source": [
    "\n",
    "# calling the function for passing the parameters in the class\n",
    "language_bot = chatbot(language1='Spanish', language2='French', language3='German',language4='हिंदी')\n",
    "\n",
    "#here the user will choose a language from the given 4 languages\n",
    "language_bot.select_language()\n",
    "\n",
    "# The selected language will contain the following part\n",
    "language_bot.learning_part()"
   ]
  }
 ],
 "metadata": {
  "kernelspec": {
   "display_name": "Python 3 (ipykernel)",
   "language": "python",
   "name": "python3"
  },
  "language_info": {
   "codemirror_mode": {
    "name": "ipython",
    "version": 3
   },
   "file_extension": ".py",
   "mimetype": "text/x-python",
   "name": "python",
   "nbconvert_exporter": "python",
   "pygments_lexer": "ipython3",
   "version": "3.9.13"
  }
 },
 "nbformat": 4,
 "nbformat_minor": 5
}
